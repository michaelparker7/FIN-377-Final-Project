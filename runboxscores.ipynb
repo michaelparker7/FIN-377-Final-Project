{
 "cells": [
  {
   "cell_type": "code",
   "execution_count": 1,
   "id": "d7804134-599d-43fc-97bb-2024b9e7af5b",
   "metadata": {},
   "outputs": [],
   "source": [
    "# GENERAL USE LIBRARY IMPORTS\n",
    "\n",
    "import datetime as dt\n",
    "import random\n",
    "import random as rand\n",
    "import warnings\n",
    "from datetime import datetime\n",
    "import time\n",
    "\n",
    "import matplotlib.pyplot as plt\n",
    "import numpy as np\n",
    "import numpy.random\n",
    "import pandas as pd\n",
    "import os\n",
    "import requests\n",
    "from zipfile import ZipFile\n",
    "\n",
    "warnings.filterwarnings('ignore')"
   ]
  },
  {
   "cell_type": "code",
   "execution_count": 2,
   "id": "f78d3f31-0901-4f60-957d-a56dc03cf2b3",
   "metadata": {},
   "outputs": [],
   "source": [
    "# Create dictionary of team abbvs and names\n",
    "team_abbvs = ['ATL', 'BOS', 'BRK', 'CHO', 'CHI', 'CLE', 'DAL', 'DEN', 'DET', 'GSW', 'HOU', 'IND', 'LAC', 'LAL', 'MEM', 'MIA', 'MIL', 'MIN', 'NOP', 'NYK',  'OKC', 'ORL', 'PHI', 'PHO', 'POR', 'SAC','SAS', 'TOR', 'UTA','WAS']\n",
    "team_names = ['Atlanta Hawks','Boston Celtics','Brooklyn Nets','Charlotte Hornets','Chicago Bulls','Cleveland Cavaliers','Dallas Mavericks','Denver Nuggets','Detroit Pistons','Golden State Warriors','Houston Rockets','Indiana Pacers','Los Angeles Clippers','Los Angeles Lakers','Memphis Grizzlies','Miami Heat','Milwaukee Bucks','Minnesota Timberwolves','New Orleans Pelicans','New York Knicks','Oklahoma City Thunder','Orlando Magic','Philadelphia 76ers','Phoenix Suns','Portland Trail Blazers','Sacramento Kings','San Antonio Spurs','Toronto Raptors','Utah Jazz','Washington Wizards']\n",
    "name_to_abbv = dict(zip(team_names,team_abbvs))"
   ]
  },
  {
   "cell_type": "code",
   "execution_count": 3,
   "id": "40ac825f-66c3-4272-a54b-ab49c77b56e8",
   "metadata": {},
   "outputs": [],
   "source": [
    "def get_boxscore(response):\n",
    "    \n",
    "    boxscore = pd.read_html(response)\n",
    "    # differing layouts if ot\n",
    "    num = len(boxscore)\n",
    "    num_div_two = int(num/2)\n",
    "    awayteam_basic = boxscore[0]\n",
    "    awayteam_advanced = boxscore[num_div_two -1]\n",
    "    hometeam_basic = boxscore[num_div_two]\n",
    "    hometeam_advanced = boxscore[num-1]\n",
    "    \n",
    "    awayteam = pd.merge(awayteam_basic,awayteam_advanced,left_index= True,right_index =True)\n",
    "    awayteam = awayteam.drop(5,axis = 0).drop(columns = ('Unnamed: 0_level_0_y','Starters'),axis = 1)\n",
    "    awayteam = awayteam.rename(columns={'Starters': 'Players'})\n",
    "    awayteam.columns = awayteam.columns.droplevel(0)\n",
    "    \n",
    "    hometeam = pd.merge(hometeam_basic,hometeam_advanced,left_index= True,right_index =True)\n",
    "    hometeam = hometeam.drop(5,axis = 0).drop(columns = ('Unnamed: 0_level_0_y','Starters'),axis = 1)\n",
    "    hometeam = hometeam.rename(columns={'Starters': 'Players'})\n",
    "    hometeam.columns = hometeam.columns.droplevel(0)\n",
    "\n",
    "    return awayteam, hometeam"
   ]
  },
  {
   "cell_type": "code",
   "execution_count": 7,
   "id": "ba0692e1-9cbf-403d-914e-04b88c0405f6",
   "metadata": {},
   "outputs": [],
   "source": [
    "full_schedule_df = pd.read_csv(\"full_scedule.csv\")\n",
    "full_schedule_df['f_Date'] = pd.to_datetime(full_schedule_df['Date']).dt.strftime('%Y%m%d')\n",
    "full_schedule_df['Home_abbr'] = full_schedule_df['Home/Neutral'].map(name_to_abbv)\n",
    "full_schedule_df['Away_abbr'] = full_schedule_df['Visitor/Neutral'].map(name_to_abbv)\n",
    "\n",
    "#print(full_schedule_df)"
   ]
  },
  {
   "cell_type": "code",
   "execution_count": 9,
   "id": "9890acf2-91b8-4e9f-a8be-9251286bbda9",
   "metadata": {},
   "outputs": [
    {
     "name": "stdout",
     "output_type": "stream",
     "text": [
      "          Date Home Away\n",
      "0     20231024  DEN  LAL\n",
      "1     20231024  GSW  PHO\n",
      "2     20231025  ORL  HOU\n",
      "3     20231025  NYK  BOS\n",
      "4     20231025  IND  WAS\n",
      "...        ...  ...  ...\n",
      "1111  20240331  HOU  DAL\n",
      "1112  20240331  MIN  CHI\n",
      "1113  20240331  NYK  OKC\n",
      "1114  20240331  SAS  GSW\n",
      "1115  20240331  SAC  UTA\n",
      "\n",
      "[1116 rows x 3 columns]\n"
     ]
    }
   ],
   "source": [
    "simple_games_df = full_schedule_df[['f_Date', 'Home_abbr', 'Away_abbr']].rename(columns={\n",
    "    'f_Date': 'Date',\n",
    "    'Home_abbr': 'Home',\n",
    "    'Away_abbr': 'Away'\n",
    "})\n",
    "print(simple_games_df)"
   ]
  },
  {
   "cell_type": "code",
   "execution_count": 10,
   "id": "9f16da5d-c545-4022-9b81-85b63dedceb4",
   "metadata": {},
   "outputs": [
    {
     "name": "stdout",
     "output_type": "stream",
     "text": [
      "['20231024', '20231025', '20231026', '20231027', '20231028', '20231029', '20231030']\n"
     ]
    }
   ],
   "source": [
    "# create list of dates:\n",
    "# Define the start and end dates\n",
    "start_date = '2023-10-24'\n",
    "#testing with smaller set\n",
    "#end_date = '2023-10-31'\n",
    "end_date = '2023-10-30'\n",
    "\n",
    "# Generate the range of dates\n",
    "date_range = pd.date_range(start=start_date, end=end_date)\n",
    "\n",
    "# Convert to list\n",
    "date_list = list(date_range)\n",
    "\n",
    "# format dates:\n",
    "formatted_date_list = [date.strftime('%Y%m%d') for date in date_range]\n",
    "\n",
    "# Print the formatted list of dates\n",
    "print(formatted_date_list)\n",
    "# Print the list of dates\n"
   ]
  },
  {
   "cell_type": "code",
   "execution_count": 11,
   "id": "cc6cc9ab-408c-4726-abad-d54a7dc53899",
   "metadata": {},
   "outputs": [],
   "source": [
    "def fetch_with_retry_after(url):\n",
    "    response = requests.get(url)\n",
    "    if response.status_code == 429:\n",
    "        retry_after = int(response.headers.get('Retry-After', 60))  # Default to 60 seconds if header is missing\n",
    "        print(f\"Rate limit exceeded. Retrying after {retry_after} seconds...\")\n",
    "        time.sleep(retry_after)\n",
    "        return fetch_with_retry_after(url)  # Recursively retry fetching\n",
    "    response.raise_for_status()  # Raise an error for other status codes\n",
    "    return response"
   ]
  },
  {
   "cell_type": "code",
   "execution_count": 12,
   "id": "8ba6928a-9703-422d-91fb-292df244764d",
   "metadata": {},
   "outputs": [
    {
     "name": "stdout",
     "output_type": "stream",
     "text": [
      "Rate limit exceeded. Retrying after 2153 seconds...\n"
     ]
    },
    {
     "ename": "KeyboardInterrupt",
     "evalue": "",
     "output_type": "error",
     "traceback": [
      "\u001b[0;31m---------------------------------------------------------------------------\u001b[0m",
      "\u001b[0;31mKeyboardInterrupt\u001b[0m                         Traceback (most recent call last)",
      "Cell \u001b[0;32mIn[12], line 37\u001b[0m\n\u001b[1;32m     34\u001b[0m \u001b[38;5;66;03m# Example usage\u001b[39;00m\n\u001b[1;32m     35\u001b[0m url_base \u001b[38;5;241m=\u001b[39m \u001b[38;5;124m\"\u001b[39m\u001b[38;5;124mhttps://www.basketball-reference.com/boxscores/\u001b[39m\u001b[38;5;124m\"\u001b[39m\n\u001b[0;32m---> 37\u001b[0m save_box_scores(formatted_date_list, simple_games_df, url_base)\n",
      "Cell \u001b[0;32mIn[12], line 19\u001b[0m, in \u001b[0;36msave_box_scores\u001b[0;34m(formatted_date_list, simple_games_df, url_base)\u001b[0m\n\u001b[1;32m     17\u001b[0m \u001b[38;5;66;03m# Fetch and save box scores\u001b[39;00m\n\u001b[1;32m     18\u001b[0m \u001b[38;5;28;01mtry\u001b[39;00m: \n\u001b[0;32m---> 19\u001b[0m     response \u001b[38;5;241m=\u001b[39m fetch_with_retry_after(formatted_url)\n\u001b[1;32m     21\u001b[0m \u001b[38;5;66;03m# Save each team's box score in the specific game folder\u001b[39;00m\n\u001b[1;32m     22\u001b[0m     away_df,home_df \u001b[38;5;241m=\u001b[39m get_boxscore(response\u001b[38;5;241m.\u001b[39mtext)\n",
      "Cell \u001b[0;32mIn[11], line 6\u001b[0m, in \u001b[0;36mfetch_with_retry_after\u001b[0;34m(url)\u001b[0m\n\u001b[1;32m      4\u001b[0m     retry_after \u001b[38;5;241m=\u001b[39m \u001b[38;5;28mint\u001b[39m(response\u001b[38;5;241m.\u001b[39mheaders\u001b[38;5;241m.\u001b[39mget(\u001b[38;5;124m'\u001b[39m\u001b[38;5;124mRetry-After\u001b[39m\u001b[38;5;124m'\u001b[39m, \u001b[38;5;241m60\u001b[39m))  \u001b[38;5;66;03m# Default to 60 seconds if header is missing\u001b[39;00m\n\u001b[1;32m      5\u001b[0m     \u001b[38;5;28mprint\u001b[39m(\u001b[38;5;124mf\u001b[39m\u001b[38;5;124m\"\u001b[39m\u001b[38;5;124mRate limit exceeded. Retrying after \u001b[39m\u001b[38;5;132;01m{\u001b[39;00mretry_after\u001b[38;5;132;01m}\u001b[39;00m\u001b[38;5;124m seconds...\u001b[39m\u001b[38;5;124m\"\u001b[39m)\n\u001b[0;32m----> 6\u001b[0m     time\u001b[38;5;241m.\u001b[39msleep(retry_after)\n\u001b[1;32m      7\u001b[0m     \u001b[38;5;28;01mreturn\u001b[39;00m fetch_with_retry_after(url)  \u001b[38;5;66;03m# Recursively retry fetching\u001b[39;00m\n\u001b[1;32m      8\u001b[0m response\u001b[38;5;241m.\u001b[39mraise_for_status()  \u001b[38;5;66;03m# Raise an error for other status codes\u001b[39;00m\n",
      "\u001b[0;31mKeyboardInterrupt\u001b[0m: "
     ]
    }
   ],
   "source": [
    "def save_box_scores(formatted_date_list, simple_games_df, url_base):\n",
    "    # Create a main directory to hold all data before zipping\n",
    "    main_folder = 'NBA_Box_Scores'\n",
    "    os.makedirs(main_folder, exist_ok=True)\n",
    "    \n",
    "    for date in formatted_date_list:\n",
    "        games_df = simple_games_df[simple_games_df['Date'] == date]\n",
    "        for index, row in games_df.iterrows():\n",
    "            home_abbr = row['Home']\n",
    "            away_abbr = row['Away']\n",
    "            game_folder = f\"{date}/{away_abbr}@{home_abbr}\"  # Folder name format: YYYYMMDD/Away@Home\n",
    "            full_folder_path = os.path.join(main_folder, game_folder)\n",
    "            os.makedirs(full_folder_path, exist_ok=True)\n",
    "\n",
    "            # Format the URL\n",
    "            formatted_url = f\"{url_base}{date}0{home_abbr}.html\"\n",
    "            # Fetch and save box scores\n",
    "            try: \n",
    "                response = fetch_with_retry_after(formatted_url)\n",
    "                \n",
    "            # Save each team's box score in the specific game folder\n",
    "                away_df,home_df = get_boxscore(response.text)\n",
    "                away_df.to_csv(f\"{full_folder_path}/away_team.csv\", index=False)\n",
    "                home_df.to_csv(f\"{full_folder_path}/home_team.csv\", index=False)\n",
    "            except Exception as e:\n",
    "                print(f\"Error fetching data for URL {formatted_url}: {str(e)}\")\n",
    "            \n",
    "    # Zip the entire directory\n",
    "    with ZipFile(f\"{main_folder}.zip\", 'w') as zipf:\n",
    "        for root, dirs, files in os.walk(main_folder):\n",
    "            for file in files:\n",
    "                zipf.write(os.path.join(root, file), os.path.relpath(os.path.join(root, file), os.path.join(main_folder, '..')))\n",
    "\n",
    "# Example usage\n",
    "url_base = \"https://www.basketball-reference.com/boxscores/\"\n",
    "\n",
    "save_box_scores(formatted_date_list, simple_games_df, url_base)"
   ]
  },
  {
   "cell_type": "code",
   "execution_count": null,
   "id": "04c82e5b-1bca-410a-bb11-8fde7d9b441f",
   "metadata": {},
   "outputs": [],
   "source": []
  },
  {
   "cell_type": "code",
   "execution_count": null,
   "id": "1d9ec91f-e754-4f58-85e6-4f19e8ed13d1",
   "metadata": {},
   "outputs": [],
   "source": []
  }
 ],
 "metadata": {
  "kernelspec": {
   "display_name": "Python 3 (ipykernel)",
   "language": "python",
   "name": "python3"
  },
  "language_info": {
   "codemirror_mode": {
    "name": "ipython",
    "version": 3
   },
   "file_extension": ".py",
   "mimetype": "text/x-python",
   "name": "python",
   "nbconvert_exporter": "python",
   "pygments_lexer": "ipython3",
   "version": "3.11.7"
  }
 },
 "nbformat": 4,
 "nbformat_minor": 5
}
