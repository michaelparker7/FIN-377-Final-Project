{
 "cells": [
  {
   "cell_type": "markdown",
   "id": "c1cd703c-fe06-4a3d-9352-fabe743acf01",
   "metadata": {},
   "source": [
    "Celtics:\n",
    "    - Jayson Tatum\n",
    "    - Jaylen Brown\n",
    "    - Kristaps Porzingus\n",
    "    - Derrick White\n",
    "    - Jrue Holiday\n",
    "\n",
    "Lakers:\n",
    "Nuggets:\n",
    "Suns:\n",
    "Warriors:\n"
   ]
  },
  {
   "cell_type": "code",
   "execution_count": null,
   "id": "d60cb549-2117-4b77-b624-e4b41d791778",
   "metadata": {},
   "outputs": [],
   "source": []
  }
 ],
 "metadata": {
  "kernelspec": {
   "display_name": "Python 3",
   "language": "python",
   "name": "python3"
  },
  "language_info": {
   "codemirror_mode": {
    "name": "ipython",
    "version": 3
   },
   "file_extension": ".py",
   "mimetype": "text/x-python",
   "name": "python",
   "nbconvert_exporter": "python",
   "pygments_lexer": "ipython3",
   "version": "3.8.8"
  }
 },
 "nbformat": 4,
 "nbformat_minor": 5
}
