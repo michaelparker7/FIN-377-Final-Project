{
 "cells": [
  {
   "cell_type": "markdown",
   "id": "c1cd703c-fe06-4a3d-9352-fabe743acf01",
   "metadata": {},
   "source": [
    "Celtics:\n",
    "    - Jayson Tatum\n",
    "    - Jaylen Brown\n",
    "    - Kristaps Porzingus\n",
    "    - Jrue Holiday\n",
    "    - Derrick White\n",
    "    - Al Horford"
   ]
  }
 ],
 "metadata": {
  "kernelspec": {
   "display_name": "Python 3",
   "language": "python",
   "name": "python3"
  },
  "language_info": {
   "codemirror_mode": {
    "name": "ipython",
    "version": 3
   },
   "file_extension": ".py",
   "mimetype": "text/x-python",
   "name": "python",
   "nbconvert_exporter": "python",
   "pygments_lexer": "ipython3",
   "version": "3.8.8"
  }
 },
 "nbformat": 4,
 "nbformat_minor": 5
}
