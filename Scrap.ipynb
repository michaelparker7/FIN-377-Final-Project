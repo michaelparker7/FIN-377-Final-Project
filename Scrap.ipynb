{
 "cells": [
  {
   "cell_type": "code",
   "execution_count": 50,
   "id": "9a6c60b8-44c4-4110-a9d1-4135210b51d9",
   "metadata": {},
   "outputs": [],
   "source": [
    "import pandas as pd\n",
    "import numpy as np\n",
    "import matplotlib.pyplot as plt\n",
    "import seaborn as sns\n",
    "from statsmodels.formula.api import ols as sm_ols\n",
    "from statsmodels.iolib.summary2 import summary_col\n",
    "\n",
    "pd.set_option(\n",
    "    \"display.max_colwidth\", 1000, \"display.max_rows\", 100, \"display.max_columns\", None\n",
    ")"
   ]
  },
  {
   "cell_type": "code",
   "execution_count": 51,
   "id": "51dfedfc-d201-43a7-9b7a-a3cda91a0cff",
   "metadata": {},
   "outputs": [
    {
     "data": {
      "text/html": [
       "<div>\n",
       "<style scoped>\n",
       "    .dataframe tbody tr th:only-of-type {\n",
       "        vertical-align: middle;\n",
       "    }\n",
       "\n",
       "    .dataframe tbody tr th {\n",
       "        vertical-align: top;\n",
       "    }\n",
       "\n",
       "    .dataframe thead th {\n",
       "        text-align: right;\n",
       "    }\n",
       "</style>\n",
       "<table border=\"1\" class=\"dataframe\">\n",
       "  <thead>\n",
       "    <tr style=\"text-align: right;\">\n",
       "      <th></th>\n",
       "      <th>Date</th>\n",
       "      <th>Opponent</th>\n",
       "      <th>Home_Away</th>\n",
       "      <th>In Season Tournament</th>\n",
       "      <th>Celtics_Win_Pct</th>\n",
       "      <th>Celtics_Home_Win_Pct</th>\n",
       "      <th>Celtics_Away_Win_Pct</th>\n",
       "      <th>Celtics_Win_Pct_Last_5_Games</th>\n",
       "      <th>Celtics_Win_Pct_Last_10_Games</th>\n",
       "      <th>Celtics_Avg_Points_Per_Game</th>\n",
       "      <th>Celtics_Avg_Points_Last_5_Games</th>\n",
       "      <th>Celtics_Avg_Points_Last_10_Games</th>\n",
       "      <th>Celtics_Avg_Off_Rating</th>\n",
       "      <th>Celtics_Avg_Off_Rating_Last_10_Games</th>\n",
       "      <th>Celtics_Avg_Def_Rating</th>\n",
       "      <th>Celtics_Avg_Def_Rating_Last_10_Games</th>\n",
       "      <th>Celtics_Avg_FG_Last_10_Games</th>\n",
       "      <th>Celtics_Avg_FG_Pct_Last_10_Games</th>\n",
       "      <th>Celtics_Avg_3P_Last_10_Games</th>\n",
       "      <th>Celtics_Avg_3P_Pct_Last_10_Games</th>\n",
       "      <th>Celtics_Avg_FT_Last_10_Games</th>\n",
       "      <th>Celtics_Avg_FT_Pct_Last_10_Games</th>\n",
       "      <th>Celtics_Rank_In_Conference</th>\n",
       "      <th>Celtics_Rank_In_Division</th>\n",
       "      <th>Celtics_Strength_Of_Key_Players_Missing</th>\n",
       "      <th>Opp_Win_Pct</th>\n",
       "      <th>Opp_Points_Last_Game</th>\n",
       "      <th>Opp_Win_Last_Game</th>\n",
       "      <th>Opp_FG_Last_Game</th>\n",
       "      <th>Opp_FG_Pct_Last_Game</th>\n",
       "      <th>Opp_3P_Last_Game</th>\n",
       "      <th>Opp_3P_Pct_Last_Game</th>\n",
       "      <th>Opp_FT_Last_Game</th>\n",
       "      <th>Opp_FT_Pct_Last_Game</th>\n",
       "      <th>Opp_Off_Rating_Last_Game</th>\n",
       "      <th>Opp_Def_Rating_Last_Game</th>\n",
       "      <th>Opp_Rank_In_Conference</th>\n",
       "      <th>Opp_Rank_In_Division</th>\n",
       "      <th>Opp_Strength_Of_Key_Players_Missing</th>\n",
       "      <th>Win</th>\n",
       "      <th>Celtics_Points</th>\n",
       "      <th>Opp_Points</th>\n",
       "      <th>Diff_Points</th>\n",
       "      <th>Total_Points</th>\n",
       "      <th>Over_Under</th>\n",
       "    </tr>\n",
       "  </thead>\n",
       "  <tbody>\n",
       "    <tr>\n",
       "      <th>1</th>\n",
       "      <td>2023-10-25 00:00:00</td>\n",
       "      <td>New York Knicks</td>\n",
       "      <td>Away</td>\n",
       "      <td>False</td>\n",
       "      <td>NaN</td>\n",
       "      <td>NaN</td>\n",
       "      <td>NaN</td>\n",
       "      <td>NaN</td>\n",
       "      <td>NaN</td>\n",
       "      <td>NaN</td>\n",
       "      <td>NaN</td>\n",
       "      <td>NaN</td>\n",
       "      <td>NaN</td>\n",
       "      <td>NaN</td>\n",
       "      <td>NaN</td>\n",
       "      <td>NaN</td>\n",
       "      <td>NaN</td>\n",
       "      <td>NaN</td>\n",
       "      <td>NaN</td>\n",
       "      <td>NaN</td>\n",
       "      <td>NaN</td>\n",
       "      <td>NaN</td>\n",
       "      <td>NaN</td>\n",
       "      <td>NaN</td>\n",
       "      <td>0</td>\n",
       "      <td>NaN</td>\n",
       "      <td>NaN</td>\n",
       "      <td>True</td>\n",
       "      <td>NaN</td>\n",
       "      <td>NaN</td>\n",
       "      <td>NaN</td>\n",
       "      <td>NaN</td>\n",
       "      <td>NaN</td>\n",
       "      <td>NaN</td>\n",
       "      <td>NaN</td>\n",
       "      <td>NaN</td>\n",
       "      <td>NaN</td>\n",
       "      <td>NaN</td>\n",
       "      <td>0</td>\n",
       "      <td>True</td>\n",
       "      <td>108</td>\n",
       "      <td>104</td>\n",
       "      <td>4</td>\n",
       "      <td>212</td>\n",
       "      <td>223.0</td>\n",
       "    </tr>\n",
       "    <tr>\n",
       "      <th>2</th>\n",
       "      <td>2023-10-27 00:00:00</td>\n",
       "      <td>Miami Heat</td>\n",
       "      <td>Home</td>\n",
       "      <td>False</td>\n",
       "      <td>1.0</td>\n",
       "      <td>NaN</td>\n",
       "      <td>1.0</td>\n",
       "      <td>NaN</td>\n",
       "      <td>NaN</td>\n",
       "      <td>108.000000</td>\n",
       "      <td>NaN</td>\n",
       "      <td>NaN</td>\n",
       "      <td>114.400000</td>\n",
       "      <td>NaN</td>\n",
       "      <td>110.100000</td>\n",
       "      <td>NaN</td>\n",
       "      <td>NaN</td>\n",
       "      <td>NaN</td>\n",
       "      <td>NaN</td>\n",
       "      <td>NaN</td>\n",
       "      <td>NaN</td>\n",
       "      <td>NaN</td>\n",
       "      <td>1.0</td>\n",
       "      <td>1.0</td>\n",
       "      <td>0</td>\n",
       "      <td>1.000000</td>\n",
       "      <td>103.0</td>\n",
       "      <td>True</td>\n",
       "      <td>37.0</td>\n",
       "      <td>0.402</td>\n",
       "      <td>8.0</td>\n",
       "      <td>0.364</td>\n",
       "      <td>21.0</td>\n",
       "      <td>0.808</td>\n",
       "      <td>110.0</td>\n",
       "      <td>108.9</td>\n",
       "      <td>5.0</td>\n",
       "      <td>2.0</td>\n",
       "      <td>2</td>\n",
       "      <td>True</td>\n",
       "      <td>119</td>\n",
       "      <td>111</td>\n",
       "      <td>8</td>\n",
       "      <td>230</td>\n",
       "      <td>217.5</td>\n",
       "    </tr>\n",
       "    <tr>\n",
       "      <th>3</th>\n",
       "      <td>2023-10-30 00:00:00</td>\n",
       "      <td>Washington Wizards</td>\n",
       "      <td>Away</td>\n",
       "      <td>False</td>\n",
       "      <td>1.0</td>\n",
       "      <td>1.0</td>\n",
       "      <td>1.0</td>\n",
       "      <td>NaN</td>\n",
       "      <td>NaN</td>\n",
       "      <td>113.500000</td>\n",
       "      <td>NaN</td>\n",
       "      <td>NaN</td>\n",
       "      <td>117.100000</td>\n",
       "      <td>NaN</td>\n",
       "      <td>110.900000</td>\n",
       "      <td>NaN</td>\n",
       "      <td>NaN</td>\n",
       "      <td>NaN</td>\n",
       "      <td>NaN</td>\n",
       "      <td>NaN</td>\n",
       "      <td>NaN</td>\n",
       "      <td>NaN</td>\n",
       "      <td>1.0</td>\n",
       "      <td>1.0</td>\n",
       "      <td>0</td>\n",
       "      <td>0.500000</td>\n",
       "      <td>113.0</td>\n",
       "      <td>True</td>\n",
       "      <td>40.0</td>\n",
       "      <td>0.430</td>\n",
       "      <td>16.0</td>\n",
       "      <td>0.348</td>\n",
       "      <td>17.0</td>\n",
       "      <td>0.773</td>\n",
       "      <td>111.6</td>\n",
       "      <td>104.7</td>\n",
       "      <td>8.0</td>\n",
       "      <td>3.0</td>\n",
       "      <td>1</td>\n",
       "      <td>True</td>\n",
       "      <td>126</td>\n",
       "      <td>107</td>\n",
       "      <td>19</td>\n",
       "      <td>233</td>\n",
       "      <td>231.5</td>\n",
       "    </tr>\n",
       "    <tr>\n",
       "      <th>4</th>\n",
       "      <td>2023-11-01 00:00:00</td>\n",
       "      <td>Indiana Pacers</td>\n",
       "      <td>Home</td>\n",
       "      <td>False</td>\n",
       "      <td>1.0</td>\n",
       "      <td>1.0</td>\n",
       "      <td>1.0</td>\n",
       "      <td>NaN</td>\n",
       "      <td>NaN</td>\n",
       "      <td>117.666667</td>\n",
       "      <td>NaN</td>\n",
       "      <td>NaN</td>\n",
       "      <td>119.333333</td>\n",
       "      <td>NaN</td>\n",
       "      <td>108.966667</td>\n",
       "      <td>NaN</td>\n",
       "      <td>NaN</td>\n",
       "      <td>NaN</td>\n",
       "      <td>NaN</td>\n",
       "      <td>NaN</td>\n",
       "      <td>NaN</td>\n",
       "      <td>NaN</td>\n",
       "      <td>1.0</td>\n",
       "      <td>1.0</td>\n",
       "      <td>0</td>\n",
       "      <td>0.666667</td>\n",
       "      <td>105.0</td>\n",
       "      <td>False</td>\n",
       "      <td>36.0</td>\n",
       "      <td>0.409</td>\n",
       "      <td>12.0</td>\n",
       "      <td>0.261</td>\n",
       "      <td>21.0</td>\n",
       "      <td>0.840</td>\n",
       "      <td>100.0</td>\n",
       "      <td>103.5</td>\n",
       "      <td>2.0</td>\n",
       "      <td>1.0</td>\n",
       "      <td>4</td>\n",
       "      <td>True</td>\n",
       "      <td>155</td>\n",
       "      <td>104</td>\n",
       "      <td>51</td>\n",
       "      <td>259</td>\n",
       "      <td>233.5</td>\n",
       "    </tr>\n",
       "    <tr>\n",
       "      <th>5</th>\n",
       "      <td>2023-11-04 00:00:00</td>\n",
       "      <td>Brooklyn Nets</td>\n",
       "      <td>Away</td>\n",
       "      <td>False</td>\n",
       "      <td>1.0</td>\n",
       "      <td>1.0</td>\n",
       "      <td>1.0</td>\n",
       "      <td>NaN</td>\n",
       "      <td>NaN</td>\n",
       "      <td>127.000000</td>\n",
       "      <td>NaN</td>\n",
       "      <td>NaN</td>\n",
       "      <td>126.575000</td>\n",
       "      <td>NaN</td>\n",
       "      <td>106.600000</td>\n",
       "      <td>NaN</td>\n",
       "      <td>NaN</td>\n",
       "      <td>NaN</td>\n",
       "      <td>NaN</td>\n",
       "      <td>NaN</td>\n",
       "      <td>NaN</td>\n",
       "      <td>NaN</td>\n",
       "      <td>1.0</td>\n",
       "      <td>1.0</td>\n",
       "      <td>2</td>\n",
       "      <td>0.600000</td>\n",
       "      <td>109.0</td>\n",
       "      <td>True</td>\n",
       "      <td>44.0</td>\n",
       "      <td>0.458</td>\n",
       "      <td>18.0</td>\n",
       "      <td>0.400</td>\n",
       "      <td>3.0</td>\n",
       "      <td>0.600</td>\n",
       "      <td>100.0</td>\n",
       "      <td>115.5</td>\n",
       "      <td>4.0</td>\n",
       "      <td>3.0</td>\n",
       "      <td>5</td>\n",
       "      <td>True</td>\n",
       "      <td>124</td>\n",
       "      <td>114</td>\n",
       "      <td>10</td>\n",
       "      <td>238</td>\n",
       "      <td>227.5</td>\n",
       "    </tr>\n",
       "  </tbody>\n",
       "</table>\n",
       "</div>"
      ],
      "text/plain": [
       "0                 Date            Opponent Home_Away  In Season Tournament  \\\n",
       "1  2023-10-25 00:00:00     New York Knicks      Away                 False   \n",
       "2  2023-10-27 00:00:00          Miami Heat      Home                 False   \n",
       "3  2023-10-30 00:00:00  Washington Wizards      Away                 False   \n",
       "4  2023-11-01 00:00:00      Indiana Pacers      Home                 False   \n",
       "5  2023-11-04 00:00:00       Brooklyn Nets      Away                 False   \n",
       "\n",
       "0  Celtics_Win_Pct  Celtics_Home_Win_Pct  Celtics_Away_Win_Pct  \\\n",
       "1              NaN                   NaN                   NaN   \n",
       "2              1.0                   NaN                   1.0   \n",
       "3              1.0                   1.0                   1.0   \n",
       "4              1.0                   1.0                   1.0   \n",
       "5              1.0                   1.0                   1.0   \n",
       "\n",
       "0  Celtics_Win_Pct_Last_5_Games  Celtics_Win_Pct_Last_10_Games  \\\n",
       "1                           NaN                            NaN   \n",
       "2                           NaN                            NaN   \n",
       "3                           NaN                            NaN   \n",
       "4                           NaN                            NaN   \n",
       "5                           NaN                            NaN   \n",
       "\n",
       "0  Celtics_Avg_Points_Per_Game  Celtics_Avg_Points_Last_5_Games  \\\n",
       "1                          NaN                              NaN   \n",
       "2                   108.000000                              NaN   \n",
       "3                   113.500000                              NaN   \n",
       "4                   117.666667                              NaN   \n",
       "5                   127.000000                              NaN   \n",
       "\n",
       "0  Celtics_Avg_Points_Last_10_Games  Celtics_Avg_Off_Rating  \\\n",
       "1                               NaN                     NaN   \n",
       "2                               NaN              114.400000   \n",
       "3                               NaN              117.100000   \n",
       "4                               NaN              119.333333   \n",
       "5                               NaN              126.575000   \n",
       "\n",
       "0  Celtics_Avg_Off_Rating_Last_10_Games  Celtics_Avg_Def_Rating  \\\n",
       "1                                   NaN                     NaN   \n",
       "2                                   NaN              110.100000   \n",
       "3                                   NaN              110.900000   \n",
       "4                                   NaN              108.966667   \n",
       "5                                   NaN              106.600000   \n",
       "\n",
       "0  Celtics_Avg_Def_Rating_Last_10_Games  Celtics_Avg_FG_Last_10_Games  \\\n",
       "1                                   NaN                           NaN   \n",
       "2                                   NaN                           NaN   \n",
       "3                                   NaN                           NaN   \n",
       "4                                   NaN                           NaN   \n",
       "5                                   NaN                           NaN   \n",
       "\n",
       "0  Celtics_Avg_FG_Pct_Last_10_Games  Celtics_Avg_3P_Last_10_Games  \\\n",
       "1                               NaN                           NaN   \n",
       "2                               NaN                           NaN   \n",
       "3                               NaN                           NaN   \n",
       "4                               NaN                           NaN   \n",
       "5                               NaN                           NaN   \n",
       "\n",
       "0  Celtics_Avg_3P_Pct_Last_10_Games  Celtics_Avg_FT_Last_10_Games  \\\n",
       "1                               NaN                           NaN   \n",
       "2                               NaN                           NaN   \n",
       "3                               NaN                           NaN   \n",
       "4                               NaN                           NaN   \n",
       "5                               NaN                           NaN   \n",
       "\n",
       "0  Celtics_Avg_FT_Pct_Last_10_Games  Celtics_Rank_In_Conference  \\\n",
       "1                               NaN                         NaN   \n",
       "2                               NaN                         1.0   \n",
       "3                               NaN                         1.0   \n",
       "4                               NaN                         1.0   \n",
       "5                               NaN                         1.0   \n",
       "\n",
       "0  Celtics_Rank_In_Division  Celtics_Strength_Of_Key_Players_Missing  \\\n",
       "1                       NaN                                        0   \n",
       "2                       1.0                                        0   \n",
       "3                       1.0                                        0   \n",
       "4                       1.0                                        0   \n",
       "5                       1.0                                        2   \n",
       "\n",
       "0  Opp_Win_Pct  Opp_Points_Last_Game  Opp_Win_Last_Game  Opp_FG_Last_Game  \\\n",
       "1          NaN                   NaN               True               NaN   \n",
       "2     1.000000                 103.0               True              37.0   \n",
       "3     0.500000                 113.0               True              40.0   \n",
       "4     0.666667                 105.0              False              36.0   \n",
       "5     0.600000                 109.0               True              44.0   \n",
       "\n",
       "0  Opp_FG_Pct_Last_Game  Opp_3P_Last_Game  Opp_3P_Pct_Last_Game  \\\n",
       "1                   NaN               NaN                   NaN   \n",
       "2                 0.402               8.0                 0.364   \n",
       "3                 0.430              16.0                 0.348   \n",
       "4                 0.409              12.0                 0.261   \n",
       "5                 0.458              18.0                 0.400   \n",
       "\n",
       "0  Opp_FT_Last_Game  Opp_FT_Pct_Last_Game  Opp_Off_Rating_Last_Game  \\\n",
       "1               NaN                   NaN                       NaN   \n",
       "2              21.0                 0.808                     110.0   \n",
       "3              17.0                 0.773                     111.6   \n",
       "4              21.0                 0.840                     100.0   \n",
       "5               3.0                 0.600                     100.0   \n",
       "\n",
       "0  Opp_Def_Rating_Last_Game  Opp_Rank_In_Conference  Opp_Rank_In_Division  \\\n",
       "1                       NaN                     NaN                   NaN   \n",
       "2                     108.9                     5.0                   2.0   \n",
       "3                     104.7                     8.0                   3.0   \n",
       "4                     103.5                     2.0                   1.0   \n",
       "5                     115.5                     4.0                   3.0   \n",
       "\n",
       "0  Opp_Strength_Of_Key_Players_Missing   Win  Celtics_Points  Opp_Points  \\\n",
       "1                                    0  True             108         104   \n",
       "2                                    2  True             119         111   \n",
       "3                                    1  True             126         107   \n",
       "4                                    4  True             155         104   \n",
       "5                                    5  True             124         114   \n",
       "\n",
       "0  Diff_Points  Total_Points  Over_Under  \n",
       "1            4           212       223.0  \n",
       "2            8           230       217.5  \n",
       "3           19           233       231.5  \n",
       "4           51           259       233.5  \n",
       "5           10           238       227.5  "
      ]
     },
     "execution_count": 51,
     "metadata": {},
     "output_type": "execute_result"
    }
   ],
   "source": [
    "celtics = pd.read_excel('nba.xlsx')\n",
    "celtics = celtics.set_axis(celtics.iloc[0], axis=1).drop(index=0)\n",
    "\n",
    "not_numbers = ['Date','Opponent','Home_Away','In Season Tournament','Win','Opp_Win_Last_Game']\n",
    "bool_columns = ['In Season Tournament','Opp_Win_Last_Game','Win']\n",
    "\n",
    "for col in celtics.columns:\n",
    "    if col not in not_numbers:\n",
    "        celtics[col] = pd.to_numeric(celtics[col])\n",
    "    if col in bool_columns:\n",
    "        celtics[col] = celtics[col].astype(bool)\n",
    "    \n",
    "celtics.head(5)"
   ]
  },
  {
   "cell_type": "code",
   "execution_count": 79,
   "id": "7da76c0d-953a-4711-b09d-222e4abaadbb",
   "metadata": {},
   "outputs": [
    {
     "data": {
      "text/plain": [
       "<matplotlib.collections.PathCollection at 0x2b735e82810>"
      ]
     },
     "execution_count": 79,
     "metadata": {},
     "output_type": "execute_result"
    },
    {
     "data": {
      "image/png": "[encoded data removed]",
      "text/plain": [
       "<Figure size 640x480 with 1 Axes>"
      ]
     },
     "metadata": {},
     "output_type": "display_data"
    }
   ],
   "source": [
    "plt.scatter(x=celtics['Opponent'],y=celtics['Diff_Points'])"
   ]
  },
  {
   "cell_type": "code",
   "execution_count": 54,
   "id": "17e224cb-7d39-478f-8fdf-71bba3a74648",
   "metadata": {},
   "outputs": [
    {
     "data": {
      "text/plain": [
       "<matplotlib.collections.PathCollection at 0x2b72e399a50>"
      ]
     },
     "execution_count": 54,
     "metadata": {},
     "output_type": "execute_result"
    },
    {
     "data": {
      "image/png": "[encoded data removed]",
      "text/plain": [
       "<Figure size 640x480 with 1 Axes>"
      ]
     },
     "metadata": {},
     "output_type": "display_data"
    }
   ],
   "source": [
    "plt.scatter(x=celtics['Opp_Strength_Of_Key_Players_Missing'],y=celtics['Total_Points'])"
   ]
  },
  {
   "cell_type": "code",
   "execution_count": 68,
   "id": "f45c387b-95d7-452a-a1fd-05f7bcfa662d",
   "metadata": {},
   "outputs": [
    {
     "data": {
      "text/plain": [
       "0.06256047314435609"
      ]
     },
     "execution_count": 68,
     "metadata": {},
     "output_type": "execute_result"
    }
   ],
   "source": [
    "results = sm_ols('Diff_Points ~ Home_Away', data=celtics).fit()\n",
    "results_sum = results.summary()\n",
    "results.rsquared"
   ]
  },
  {
   "cell_type": "markdown",
   "id": "77c7ad53-91cc-4381-86d0-4ab97b11f4f1",
   "metadata": {},
   "source": [
    "## Best Individual Column"
   ]
  },
  {
   "cell_type": "code",
   "execution_count": 126,
   "id": "acf20003-0900-48d1-8aec-8664b10eb224",
   "metadata": {},
   "outputs": [],
   "source": [
    "after_variables = ['Win','Celtics_Points','Opp_Points','Diff_Points','Total_Points']\n",
    "bad_variables = ['Date','Opponent','Over_Under']\n",
    "cant_use = after_variables + bad_variables\n",
    "\n",
    "rsquared_values = {}\n",
    "for col in celtics.columns:\n",
    "    if col not in cant_use:\n",
    "        formula = f'Diff_Points ~ Q(\"{col}\")'\n",
    "        results = sm_ols(formula, data=celtics).fit()\n",
    "        rsquared_values[col] = results.rsquared"
   ]
  },
  {
   "cell_type": "code",
   "execution_count": 127,
   "id": "33024570-83d7-45aa-b5b8-097971fb6825",
   "metadata": {},
   "outputs": [
    {
     "data": {
      "text/plain": [
       "'Opp_Rank_In_Conference'"
      ]
     },
     "execution_count": 127,
     "metadata": {},
     "output_type": "execute_result"
    }
   ],
   "source": [
    "max(rsquared_values, key=rsquared_values.get)"
   ]
  },
  {
   "cell_type": "code",
   "execution_count": 128,
   "id": "a2493ca2-89d9-415e-b949-5e2896ddc8d9",
   "metadata": {},
   "outputs": [
    {
     "name": "stdout",
     "output_type": "stream",
     "text": [
      "R^2 for Opp_Rank_In_Conference: 0.09625387733213664\n"
     ]
    }
   ],
   "source": [
    "colmn = max(rsquared_values, key=rsquared_values.get)\n",
    "formula = f'Diff_Points ~ Q(\"{colmn}\")'\n",
    "print(f'R^2 for {colmn}:', sm_ols(formula, data=celtics).fit().rsquared)"
   ]
  },
  {
   "cell_type": "code",
   "execution_count": 129,
   "id": "77e97d11-c608-446b-bb02-e42f1bb9d8e9",
   "metadata": {},
   "outputs": [],
   "source": [
    "# rsquared_values"
   ]
  },
  {
   "cell_type": "markdown",
   "id": "a8ccee66-79fd-41e2-98ce-a409d9614974",
   "metadata": {},
   "source": [
    "## Best Column with Opp_Rank_In_Conference"
   ]
  },
  {
   "cell_type": "code",
   "execution_count": 130,
   "id": "a9a7759d-f572-47e4-a3d9-958fd5e36ef6",
   "metadata": {},
   "outputs": [],
   "source": [
    "cant_use.append('Opp_Rank_In_Conference')\n",
    "\n",
    "rsquared_values = {}\n",
    "for col in celtics.columns:\n",
    "    if col not in cant_use:\n",
    "        formula = f'Diff_Points ~ Opp_Rank_In_Conference * Q(\"{col}\")'\n",
    "        results = sm_ols(formula, data=celtics).fit()\n",
    "        rsquared_values[col] = results.rsquared"
   ]
  },
  {
   "cell_type": "code",
   "execution_count": 131,
   "id": "ffb135d1-7321-4de2-afcd-ca27acc54194",
   "metadata": {},
   "outputs": [
    {
     "data": {
      "text/plain": [
       "'Celtics_Win_Pct'"
      ]
     },
     "execution_count": 131,
     "metadata": {},
     "output_type": "execute_result"
    }
   ],
   "source": [
    "max(rsquared_values, key=rsquared_values.get)"
   ]
  },
  {
   "cell_type": "code",
   "execution_count": 132,
   "id": "71240e75-1e02-40db-aa1d-c4279634bd80",
   "metadata": {},
   "outputs": [
    {
     "name": "stdout",
     "output_type": "stream",
     "text": [
      "Opp_Rank_In_Conference * Celtics_Win_Pct: 0.18076433506511635\n"
     ]
    }
   ],
   "source": [
    "colmn = max(rsquared_values, key=rsquared_values.get)\n",
    "formula = f'Diff_Points ~ Opp_Rank_In_Conference * Q(\"{colmn}\")'\n",
    "print(f'Opp_Rank_In_Conference * {colmn}:', sm_ols(formula, data=celtics).fit().rsquared)"
   ]
  },
  {
   "cell_type": "code",
   "execution_count": 141,
   "id": "671c70e4-8e41-4be7-8bde-cab29094fde0",
   "metadata": {},
   "outputs": [],
   "source": [
    "# rsquared_values"
   ]
  },
  {
   "cell_type": "markdown",
   "id": "65f4d323-5b82-44c2-ba35-09ad55723177",
   "metadata": {},
   "source": [
    "## Best Column with previous two"
   ]
  },
  {
   "cell_type": "code",
   "execution_count": 134,
   "id": "aeb97512-f5d8-4fe3-a0c8-88cc9f80aafa",
   "metadata": {},
   "outputs": [],
   "source": [
    "cant_use.append('Celtics_Avg_FT_Pct_Last_10_Games')\n",
    "\n",
    "rsquared_values = {}\n",
    "for col in celtics.columns:\n",
    "    if col not in cant_use:\n",
    "        formula = f'Diff_Points ~ Celtics_Win_Pct * Opp_Rank_In_Conference * Q(\"{col}\")'\n",
    "        results = sm_ols(formula, data=celtics).fit()\n",
    "        rsquared_values[col] = results.rsquared"
   ]
  },
  {
   "cell_type": "code",
   "execution_count": 135,
   "id": "c89d6820-beef-4b86-b48f-2d7a88389882",
   "metadata": {},
   "outputs": [
    {
     "data": {
      "text/plain": [
       "'Celtics_Avg_FG_Pct_Last_10_Games'"
      ]
     },
     "execution_count": 135,
     "metadata": {},
     "output_type": "execute_result"
    }
   ],
   "source": [
    "max(rsquared_values, key=rsquared_values.get)"
   ]
  },
  {
   "cell_type": "code",
   "execution_count": 138,
   "id": "e2146577-1d44-4130-bdbd-c4c19696df07",
   "metadata": {},
   "outputs": [
    {
     "name": "stdout",
     "output_type": "stream",
     "text": [
      "Celtics_Avg_FT_Pct_Last_10_Games * Opp_Rank_In_Conference * Celtics_Avg_FG_Pct_Last_10_Games: 0.2720003477883185\n"
     ]
    }
   ],
   "source": [
    "colmn = max(rsquared_values, key=rsquared_values.get)\n",
    "formula = f'Diff_Points ~ Celtics_Avg_FT_Pct_Last_10_Games * Opp_Rank_In_Conference * Q(\"{col}\")'\n",
    "print(f'Celtics_Avg_FT_Pct_Last_10_Games * Opp_Rank_In_Conference * {colmn}:', sm_ols(formula, data=celtics).fit().rsquared)"
   ]
  },
  {
   "cell_type": "code",
   "execution_count": 142,
   "id": "9f4e31ef-9562-4c94-9f2c-2a7926711030",
   "metadata": {},
   "outputs": [],
   "source": [
    "# rsquared_values"
   ]
  },
  {
   "cell_type": "code",
   "execution_count": 139,
   "id": "7e29c92e-cd4c-4483-abd3-9f5d92af1ba0",
   "metadata": {},
   "outputs": [],
   "source": [
    "celtics['test_var'] = celtics['Celtics_Avg_FT_Pct_Last_10_Games'] * celtics['Opp_Rank_In_Conference'] * celtics['Celtics_Avg_FG_Pct_Last_10_Games']"
   ]
  },
  {
   "cell_type": "code",
   "execution_count": 143,
   "id": "ab26ab82-1757-4a67-9c1e-cdcc2a3b9d76",
   "metadata": {},
   "outputs": [
    {
     "data": {
      "text/plain": [
       "<matplotlib.collections.PathCollection at 0x2b73608cc90>"
      ]
     },
     "execution_count": 143,
     "metadata": {},
     "output_type": "execute_result"
    },
    {
     "data": {
      "image/png": "[encoded data removed]",
      "text/plain": [
       "<Figure size 640x480 with 1 Axes>"
      ]
     },
     "metadata": {},
     "output_type": "display_data"
    }
   ],
   "source": [
    "plt.scatter(x=celtics['test_var'],y=celtics['Diff_Points'])"
   ]
  }
 ],
 "metadata": {
  "kernelspec": {
   "display_name": "Python 3 (ipykernel)",
   "language": "python",
   "name": "python3"
  },
  "language_info": {
   "codemirror_mode": {
    "name": "ipython",
    "version": 3
   },
   "file_extension": ".py",
   "mimetype": "text/x-python",
   "name": "python",
   "nbconvert_exporter": "python",
   "pygments_lexer": "ipython3",
   "version": "3.11.5"
  }
 },
 "nbformat": 4,
 "nbformat_minor": 5
}
